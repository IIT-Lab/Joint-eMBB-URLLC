{
 "cells": [
  {
   "cell_type": "code",
   "execution_count": 1,
   "metadata": {},
   "outputs": [
    {
     "name": "stdout",
     "output_type": "stream",
     "text": [
      "D:\\Development\\Code\\URLLC\\Joint-eMBB-URLLC\n",
      "D:\\Development\\Code\\URLLC\\Joint-eMBB-URLLC\\libs\\models\n"
     ]
    }
   ],
   "source": [
    "import time\n",
    "import numpy as np\n",
    "\n",
    "import _init_paths\n",
    "from libs.scheduler import PfScheduler\n",
    "from libs.models.naive_solver import NaiveURLLCSolver\n",
    "from libs.models.greedy_solver import GreedyURLLCSolver\n",
    "from utils.generator import generate\n",
    "from utils.metrics import get_embb_utility\n",
    "# from utils.visualization import draw_matrix"
   ]
  },
  {
   "cell_type": "code",
   "execution_count": 2,
   "metadata": {},
   "outputs": [],
   "source": [
    "# parameter setting\n",
    "rb_size = 15\n",
    "rb_num = 254\n",
    "embb_num = 3\n",
    "embb_slot_len = 7\n",
    "urllc_num = 6\n",
    "urllc_slot_len = 1\n",
    "max_sim_time_slot_len = embb_slot_len\n",
    "\n",
    "embb_rb_req = [100, 50, 120]\n",
    "embb_rb_size = [6000, 12000, 3000]\n",
    "urllc_rb_req = [10, 10, 10, 10, 10, 10]\n",
    "urllc_rb_size = [30, 30, 30, 30, 30, 30]\n",
    "urllc_slot_start = [1, 2, 3, 4, 5, 6]"
   ]
  },
  {
   "cell_type": "code",
   "execution_count": 9,
   "metadata": {},
   "outputs": [],
   "source": [
    "#urllc scheduler setting\n",
    "URLLCSolver = NaiveURLLCSolver\n",
    "# URLLCSolver = GreedyURLLCSolver\n",
    "\n",
    "# generate\n",
    "embb_users, urllc_users, RB_map = generate(rb_size,\n",
    "    rb_num,\n",
    "    embb_num, \n",
    "    embb_slot_len, \n",
    "    urllc_num,\n",
    "    urllc_slot_len,\n",
    "    embb_rb_req,\n",
    "    embb_rb_size,\n",
    "    urllc_rb_req,\n",
    "    urllc_rb_size,\n",
    "    urllc_slot_start,\n",
    "    latency=1,\n",
    "    error_rate=1e-5,\n",
    "    mcs_error=1e-5,\n",
    ")\n"
   ]
  },
  {
   "cell_type": "code",
   "execution_count": 10,
   "metadata": {},
   "outputs": [
    {
     "data": {
      "text/plain": [
       "dict_items([('user_info', {'id': 1}), ('rb_size', 6000), ('rb_num_req', 100), ('rb_num_ass', 0), ('rb_start', 0), ('sche_times', 0), ('active', 1), ('slot_len', 7), ('DRC', 85.71428571428571), ('rate_slot', 0.0), ('rate_avg', 0.0), ('rate_cur', 0.0), ('replace_num', 0)])"
      ]
     },
     "execution_count": 10,
     "metadata": {},
     "output_type": "execute_result"
    }
   ],
   "source": [
    "embb_users[0].__dict__.items()"
   ]
  },
  {
   "cell_type": "code",
   "execution_count": 11,
   "metadata": {},
   "outputs": [],
   "source": [
    "global_time = 0\n",
    "global_timeout_urllc_users = []\n",
    "\n",
    "# embb_time_slot pfs scheduler\n",
    "pf_scheduler = PfScheduler(RB_map, embb_users)\n",
    "pf_scheduler.allocate_resource()\n",
    "\n",
    "\n",
    "    \n",
    "# urllc_time_slot get urllc_active_come_list, setting urllc come from global_time=1 and later\n",
    "urllc_users.sort(key=lambda x:x.slot_start)\n",
    "urllc_come_time = np.array([u.slot_start for u in urllc_users])\n",
    "\n",
    "global_time = 0\n",
    "global_timeout_urllc_users = []\n"
   ]
  },
  {
   "cell_type": "code",
   "execution_count": 18,
   "metadata": {},
   "outputs": [
    {
     "data": {
      "text/plain": [
       "array([1, 2, 3, 4, 5, 6])"
      ]
     },
     "execution_count": 18,
     "metadata": {},
     "output_type": "execute_result"
    }
   ],
   "source": [
    "urllc_come_time"
   ]
  },
  {
   "cell_type": "code",
   "execution_count": 13,
   "metadata": {},
   "outputs": [
    {
     "data": {
      "text/plain": [
       "0"
      ]
     },
     "execution_count": 13,
     "metadata": {},
     "output_type": "execute_result"
    }
   ],
   "source": [
    "global_time"
   ]
  },
  {
   "cell_type": "code",
   "execution_count": 14,
   "metadata": {},
   "outputs": [
    {
     "data": {
      "text/plain": [
       "dict_items([('user_info', {'id': 1}), ('rb_size', 6000), ('rb_num_req', 100), ('rb_num_ass', 100), ('rb_start', 0), ('sche_times', 1), ('active', 1), ('slot_len', 7), ('DRC', 85.71428571428571), ('rate_slot', 0.0), ('rate_avg', 85.71428571428571), ('rate_cur', 85.71428571428571), ('replace_num', 0)])"
      ]
     },
     "execution_count": 14,
     "metadata": {},
     "output_type": "execute_result"
    }
   ],
   "source": [
    "embb_users[0].__dict__.items()"
   ]
  },
  {
   "cell_type": "code",
   "execution_count": 15,
   "metadata": {},
   "outputs": [
    {
     "name": "stdout",
     "output_type": "stream",
     "text": [
      "dict_items([('rb_avi', 254), ('rb_size', 30), ('bitmap', array([4, 4, 4, 4, 4, 4, 4, 4, 4, 4, 1, 1, 1, 1, 1, 1, 1, 1, 1, 1, 1, 1,\n",
      "       1, 1, 1, 1, 1, 1, 1, 1, 1, 1, 1, 1, 1, 1, 1, 1, 1, 1, 1, 1, 1, 1,\n",
      "       1, 1, 1, 1, 1, 1, 1, 1, 1, 1, 1, 1, 1, 1, 1, 1, 1, 1, 1, 1, 1, 1,\n",
      "       1, 1, 1, 1, 1, 1, 1, 1, 1, 1, 1, 1, 1, 1, 1, 1, 1, 1, 1, 1, 1, 1,\n",
      "       1, 1, 1, 1, 1, 1, 1, 1, 1, 1, 1, 1, 2, 2, 2, 2, 2, 2, 2, 2, 2, 2,\n",
      "       2, 2, 2, 2, 2, 2, 2, 2, 2, 2, 2, 2, 2, 2, 2, 2, 2, 2, 2, 2, 2, 2,\n",
      "       2, 2, 2, 2, 2, 2, 2, 2, 2, 2, 2, 2, 2, 2, 2, 2, 2, 2, 3, 3, 3, 3,\n",
      "       3, 3, 3, 3, 3, 3, 3, 3, 3, 3, 3, 3, 3, 3, 3, 3, 3, 3, 3, 3, 3, 3,\n",
      "       3, 3, 3, 3, 3, 3, 3, 3, 3, 3, 3, 3, 3, 3, 3, 3, 3, 3, 3, 3, 3, 3,\n",
      "       3, 3, 3, 3, 3, 3, 3, 3, 3, 3, 3, 3, 3, 3, 3, 3, 3, 3, 3, 3, 3, 3,\n",
      "       3, 3, 3, 3, 3, 3, 3, 3, 3, 3, 3, 3, 3, 3, 3, 3, 3, 3, 3, 3, 3, 3,\n",
      "       3, 3, 3, 3, 3, 3, 3, 3, 3, 3, 3, 3], dtype=int64)), ('border_bitmap_id', 3)])\n",
      "dict_items([('rb_avi', 254), ('rb_size', 30), ('bitmap', array([5, 5, 5, 5, 5, 5, 5, 5, 5, 5, 1, 1, 1, 1, 1, 1, 1, 1, 1, 1, 1, 1,\n",
      "       1, 1, 1, 1, 1, 1, 1, 1, 1, 1, 1, 1, 1, 1, 1, 1, 1, 1, 1, 1, 1, 1,\n",
      "       1, 1, 1, 1, 1, 1, 1, 1, 1, 1, 1, 1, 1, 1, 1, 1, 1, 1, 1, 1, 1, 1,\n",
      "       1, 1, 1, 1, 1, 1, 1, 1, 1, 1, 1, 1, 1, 1, 1, 1, 1, 1, 1, 1, 1, 1,\n",
      "       1, 1, 1, 1, 1, 1, 1, 1, 1, 1, 1, 1, 2, 2, 2, 2, 2, 2, 2, 2, 2, 2,\n",
      "       2, 2, 2, 2, 2, 2, 2, 2, 2, 2, 2, 2, 2, 2, 2, 2, 2, 2, 2, 2, 2, 2,\n",
      "       2, 2, 2, 2, 2, 2, 2, 2, 2, 2, 2, 2, 2, 2, 2, 2, 2, 2, 3, 3, 3, 3,\n",
      "       3, 3, 3, 3, 3, 3, 3, 3, 3, 3, 3, 3, 3, 3, 3, 3, 3, 3, 3, 3, 3, 3,\n",
      "       3, 3, 3, 3, 3, 3, 3, 3, 3, 3, 3, 3, 3, 3, 3, 3, 3, 3, 3, 3, 3, 3,\n",
      "       3, 3, 3, 3, 3, 3, 3, 3, 3, 3, 3, 3, 3, 3, 3, 3, 3, 3, 3, 3, 3, 3,\n",
      "       3, 3, 3, 3, 3, 3, 3, 3, 3, 3, 3, 3, 3, 3, 3, 3, 3, 3, 3, 3, 3, 3,\n",
      "       3, 3, 3, 3, 3, 3, 3, 3, 3, 3, 3, 3], dtype=int64)), ('border_bitmap_id', 3)])\n",
      "dict_items([('rb_avi', 254), ('rb_size', 30), ('bitmap', array([6, 6, 6, 6, 6, 6, 6, 6, 6, 6, 1, 1, 1, 1, 1, 1, 1, 1, 1, 1, 1, 1,\n",
      "       1, 1, 1, 1, 1, 1, 1, 1, 1, 1, 1, 1, 1, 1, 1, 1, 1, 1, 1, 1, 1, 1,\n",
      "       1, 1, 1, 1, 1, 1, 1, 1, 1, 1, 1, 1, 1, 1, 1, 1, 1, 1, 1, 1, 1, 1,\n",
      "       1, 1, 1, 1, 1, 1, 1, 1, 1, 1, 1, 1, 1, 1, 1, 1, 1, 1, 1, 1, 1, 1,\n",
      "       1, 1, 1, 1, 1, 1, 1, 1, 1, 1, 1, 1, 2, 2, 2, 2, 2, 2, 2, 2, 2, 2,\n",
      "       2, 2, 2, 2, 2, 2, 2, 2, 2, 2, 2, 2, 2, 2, 2, 2, 2, 2, 2, 2, 2, 2,\n",
      "       2, 2, 2, 2, 2, 2, 2, 2, 2, 2, 2, 2, 2, 2, 2, 2, 2, 2, 3, 3, 3, 3,\n",
      "       3, 3, 3, 3, 3, 3, 3, 3, 3, 3, 3, 3, 3, 3, 3, 3, 3, 3, 3, 3, 3, 3,\n",
      "       3, 3, 3, 3, 3, 3, 3, 3, 3, 3, 3, 3, 3, 3, 3, 3, 3, 3, 3, 3, 3, 3,\n",
      "       3, 3, 3, 3, 3, 3, 3, 3, 3, 3, 3, 3, 3, 3, 3, 3, 3, 3, 3, 3, 3, 3,\n",
      "       3, 3, 3, 3, 3, 3, 3, 3, 3, 3, 3, 3, 3, 3, 3, 3, 3, 3, 3, 3, 3, 3,\n",
      "       3, 3, 3, 3, 3, 3, 3, 3, 3, 3, 3, 3], dtype=int64)), ('border_bitmap_id', 3)])\n",
      "dict_items([('rb_avi', 254), ('rb_size', 30), ('bitmap', array([7, 7, 7, 7, 7, 7, 7, 7, 7, 7, 1, 1, 1, 1, 1, 1, 1, 1, 1, 1, 1, 1,\n",
      "       1, 1, 1, 1, 1, 1, 1, 1, 1, 1, 1, 1, 1, 1, 1, 1, 1, 1, 1, 1, 1, 1,\n",
      "       1, 1, 1, 1, 1, 1, 1, 1, 1, 1, 1, 1, 1, 1, 1, 1, 1, 1, 1, 1, 1, 1,\n",
      "       1, 1, 1, 1, 1, 1, 1, 1, 1, 1, 1, 1, 1, 1, 1, 1, 1, 1, 1, 1, 1, 1,\n",
      "       1, 1, 1, 1, 1, 1, 1, 1, 1, 1, 1, 1, 2, 2, 2, 2, 2, 2, 2, 2, 2, 2,\n",
      "       2, 2, 2, 2, 2, 2, 2, 2, 2, 2, 2, 2, 2, 2, 2, 2, 2, 2, 2, 2, 2, 2,\n",
      "       2, 2, 2, 2, 2, 2, 2, 2, 2, 2, 2, 2, 2, 2, 2, 2, 2, 2, 3, 3, 3, 3,\n",
      "       3, 3, 3, 3, 3, 3, 3, 3, 3, 3, 3, 3, 3, 3, 3, 3, 3, 3, 3, 3, 3, 3,\n",
      "       3, 3, 3, 3, 3, 3, 3, 3, 3, 3, 3, 3, 3, 3, 3, 3, 3, 3, 3, 3, 3, 3,\n",
      "       3, 3, 3, 3, 3, 3, 3, 3, 3, 3, 3, 3, 3, 3, 3, 3, 3, 3, 3, 3, 3, 3,\n",
      "       3, 3, 3, 3, 3, 3, 3, 3, 3, 3, 3, 3, 3, 3, 3, 3, 3, 3, 3, 3, 3, 3,\n",
      "       3, 3, 3, 3, 3, 3, 3, 3, 3, 3, 3, 3], dtype=int64)), ('border_bitmap_id', 3)])\n",
      "dict_items([('rb_avi', 254), ('rb_size', 30), ('bitmap', array([8, 8, 8, 8, 8, 8, 8, 8, 8, 8, 1, 1, 1, 1, 1, 1, 1, 1, 1, 1, 1, 1,\n",
      "       1, 1, 1, 1, 1, 1, 1, 1, 1, 1, 1, 1, 1, 1, 1, 1, 1, 1, 1, 1, 1, 1,\n",
      "       1, 1, 1, 1, 1, 1, 1, 1, 1, 1, 1, 1, 1, 1, 1, 1, 1, 1, 1, 1, 1, 1,\n",
      "       1, 1, 1, 1, 1, 1, 1, 1, 1, 1, 1, 1, 1, 1, 1, 1, 1, 1, 1, 1, 1, 1,\n",
      "       1, 1, 1, 1, 1, 1, 1, 1, 1, 1, 1, 1, 2, 2, 2, 2, 2, 2, 2, 2, 2, 2,\n",
      "       2, 2, 2, 2, 2, 2, 2, 2, 2, 2, 2, 2, 2, 2, 2, 2, 2, 2, 2, 2, 2, 2,\n",
      "       2, 2, 2, 2, 2, 2, 2, 2, 2, 2, 2, 2, 2, 2, 2, 2, 2, 2, 3, 3, 3, 3,\n",
      "       3, 3, 3, 3, 3, 3, 3, 3, 3, 3, 3, 3, 3, 3, 3, 3, 3, 3, 3, 3, 3, 3,\n",
      "       3, 3, 3, 3, 3, 3, 3, 3, 3, 3, 3, 3, 3, 3, 3, 3, 3, 3, 3, 3, 3, 3,\n",
      "       3, 3, 3, 3, 3, 3, 3, 3, 3, 3, 3, 3, 3, 3, 3, 3, 3, 3, 3, 3, 3, 3,\n",
      "       3, 3, 3, 3, 3, 3, 3, 3, 3, 3, 3, 3, 3, 3, 3, 3, 3, 3, 3, 3, 3, 3,\n",
      "       3, 3, 3, 3, 3, 3, 3, 3, 3, 3, 3, 3], dtype=int64)), ('border_bitmap_id', 3)])\n",
      "dict_items([('rb_avi', 254), ('rb_size', 30), ('bitmap', array([9, 9, 9, 9, 9, 9, 9, 9, 9, 9, 1, 1, 1, 1, 1, 1, 1, 1, 1, 1, 1, 1,\n",
      "       1, 1, 1, 1, 1, 1, 1, 1, 1, 1, 1, 1, 1, 1, 1, 1, 1, 1, 1, 1, 1, 1,\n",
      "       1, 1, 1, 1, 1, 1, 1, 1, 1, 1, 1, 1, 1, 1, 1, 1, 1, 1, 1, 1, 1, 1,\n",
      "       1, 1, 1, 1, 1, 1, 1, 1, 1, 1, 1, 1, 1, 1, 1, 1, 1, 1, 1, 1, 1, 1,\n",
      "       1, 1, 1, 1, 1, 1, 1, 1, 1, 1, 1, 1, 2, 2, 2, 2, 2, 2, 2, 2, 2, 2,\n",
      "       2, 2, 2, 2, 2, 2, 2, 2, 2, 2, 2, 2, 2, 2, 2, 2, 2, 2, 2, 2, 2, 2,\n",
      "       2, 2, 2, 2, 2, 2, 2, 2, 2, 2, 2, 2, 2, 2, 2, 2, 2, 2, 3, 3, 3, 3,\n",
      "       3, 3, 3, 3, 3, 3, 3, 3, 3, 3, 3, 3, 3, 3, 3, 3, 3, 3, 3, 3, 3, 3,\n",
      "       3, 3, 3, 3, 3, 3, 3, 3, 3, 3, 3, 3, 3, 3, 3, 3, 3, 3, 3, 3, 3, 3,\n",
      "       3, 3, 3, 3, 3, 3, 3, 3, 3, 3, 3, 3, 3, 3, 3, 3, 3, 3, 3, 3, 3, 3,\n",
      "       3, 3, 3, 3, 3, 3, 3, 3, 3, 3, 3, 3, 3, 3, 3, 3, 3, 3, 3, 3, 3, 3,\n",
      "       3, 3, 3, 3, 3, 3, 3, 3, 3, 3, 3, 3], dtype=int64)), ('border_bitmap_id', 3)])\n",
      "dict_items([('user_info', {'id': 1}), ('rb_size', 6000), ('rb_num_req', 100), ('rb_num_ass', 100), ('rb_start', 0), ('sche_times', 1), ('active', 1), ('slot_len', 7), ('DRC', 85.71428571428571), ('rate_slot', 0.0), ('rate_avg', 78.62479293564512), ('rate_cur', 78.62479293564512), ('replace_num', 0)])\n",
      "dict_items([('user_info', {'id': 2}), ('rb_size', 12000), ('rb_num_req', 50), ('rb_num_ass', 50), ('rb_start', 100), ('sche_times', 1), ('active', 1), ('slot_len', 7), ('DRC', 85.71428571428571), ('rate_slot', 0.0), ('rate_avg', 85.71428571428571), ('rate_cur', 85.71428571428571), ('replace_num', 0)])\n",
      "dict_items([('user_info', {'id': 3}), ('rb_size', 3000), ('rb_num_req', 120), ('rb_num_ass', 104), ('rb_start', 150), ('sche_times', 1), ('active', 1), ('slot_len', 7), ('DRC', 51.42857142857143), ('rate_slot', 0.0), ('rate_avg', 44.57142857142857), ('rate_cur', 44.57142857142857), ('replace_num', 0)])\n",
      "\n",
      "\n",
      "dict_items([('rb_avi', 254), ('rb_size', 30), ('bitmap', array([1, 1, 1, 1, 1, 1, 1, 1, 1, 1, 1, 1, 1, 1, 1, 1, 1, 1, 1, 1, 1, 1,\n",
      "       1, 1, 1, 1, 1, 1, 1, 1, 1, 1, 1, 1, 1, 1, 1, 1, 1, 1, 1, 1, 1, 1,\n",
      "       1, 1, 1, 1, 1, 1, 1, 1, 1, 1, 1, 1, 1, 1, 1, 1, 1, 1, 1, 1, 1, 1,\n",
      "       1, 1, 1, 1, 1, 1, 1, 1, 1, 1, 1, 1, 1, 1, 1, 1, 1, 1, 1, 1, 1, 1,\n",
      "       1, 1, 1, 1, 1, 1, 1, 1, 1, 1, 1, 1, 2, 2, 2, 2, 2, 2, 2, 2, 2, 2,\n",
      "       2, 2, 2, 2, 2, 2, 2, 2, 2, 2, 2, 2, 2, 2, 2, 2, 2, 2, 2, 2, 2, 2,\n",
      "       2, 2, 2, 2, 2, 2, 2, 2, 2, 2, 2, 2, 2, 2, 2, 2, 2, 2, 3, 3, 3, 3,\n",
      "       3, 3, 3, 3, 3, 3, 3, 3, 3, 3, 3, 3, 3, 3, 3, 3, 3, 3, 3, 3, 3, 3,\n",
      "       3, 3, 3, 3, 3, 3, 3, 3, 3, 3, 3, 3, 3, 3, 3, 3, 3, 3, 3, 3, 3, 3,\n",
      "       3, 3, 3, 3, 3, 3, 3, 3, 3, 3, 3, 3, 3, 3, 3, 3, 3, 3, 3, 3, 3, 3,\n",
      "       3, 3, 3, 3, 3, 3, 3, 3, 3, 3, 3, 3, 3, 3, 3, 3, 3, 3, 3, 3, 3, 3,\n",
      "       3, 3, 3, 3, 3, 3, 3, 3, 3, 3, 3, 3], dtype=int64)), ('border_bitmap_id', 3)])\n"
     ]
    }
   ],
   "source": [
    "# urllc_time_slot get urllc_active_come_list, setting urllc come from global_time=1 and later\n",
    "urllc_users.sort(key=lambda x:x.slot_start)\n",
    "urllc_come_time = np.array([u.slot_start for u in urllc_users])\n",
    "\n",
    "delay_users = []\n",
    "timer = []\n",
    "# urllc scheduler loop for all the urllc_time_slot without considering embb user rescheduling\n",
    "while(global_time < max_sim_time_slot_len):\n",
    "    global_time += 1\n",
    "    indexes = np.where(urllc_come_time==global_time)[0]\n",
    "    if len(indexes) == 0:\n",
    "        continue\n",
    "    urllc_users_list = delay_users + urllc_users.copy()[indexes[0]:indexes[-1]+1]\n",
    "\n",
    "    \n",
    "    urllc_scheduler = URLLCSolver(RB_map, embb_users, urllc_users_list)\n",
    "    \n",
    "    start = time.time()\n",
    "    ass_users, delay_users, timeout_users = urllc_scheduler.allocate_resource()\n",
    "    timer.append(time.time() - start)\n",
    "\n",
    "    global_timeout_urllc_users.append(timeout_users)\n",
    "    \n",
    "    print(RB_map.__dict__.items())\n",
    "    # urllc leave\n",
    "    urllc_scheduler.leave(ass_users)\n",
    "    \n",
    "# get_embb_utility miss_list and time cost for all the urllc scheduler\n",
    "embb_utility = get_embb_utility(embb_users)\n",
    "total_time_cost = sum(timer)\n",
    "\n",
    "# visualize (TODO)\n",
    "for user in embb_users:\n",
    "    print(user .__dict__.items())\n",
    "print(\"\\n\")\n",
    "print(RB_map.__dict__.items())\n",
    "\n",
    "# next embb_time_slot (not show here)\n"
   ]
  },
  {
   "cell_type": "code",
   "execution_count": 21,
   "metadata": {},
   "outputs": [
    {
     "data": {
      "text/plain": [
       "7"
      ]
     },
     "execution_count": 21,
     "metadata": {},
     "output_type": "execute_result"
    }
   ],
   "source": [
    "global_time"
   ]
  },
  {
   "cell_type": "code",
   "execution_count": 8,
   "metadata": {},
   "outputs": [
    {
     "data": {
      "text/plain": [
       "dict_items([('user_info', {'id': 1}), ('rb_size', 6000), ('rb_num_req', 100), ('rb_num_ass', 100), ('rb_start', 0), ('sche_times', 1), ('active', 1), ('slot_len', 7), ('DRC', 85.71428571428571), ('rate_slot', 0.0), ('rate_avg', 78.62479293564512), ('rate_cur', 78.62479293564512), ('replace_num', 0)])"
      ]
     },
     "execution_count": 8,
     "metadata": {},
     "output_type": "execute_result"
    }
   ],
   "source": [
    "embb_users[0].__dict__.items()"
   ]
  },
  {
   "cell_type": "code",
   "execution_count": 9,
   "metadata": {},
   "outputs": [],
   "source": [
    "# embb_time_slot pfs scheduler\n",
    "pf_scheduler = PfScheduler(RB_map, embb_users)\n",
    "pf_scheduler.allocate_resource()\n"
   ]
  },
  {
   "cell_type": "code",
   "execution_count": 10,
   "metadata": {},
   "outputs": [
    {
     "name": "stdout",
     "output_type": "stream",
     "text": [
      "dict_items([('user_info', {'id': 1}), ('rb_size', 6000), ('rb_num_req', 100), ('rb_num_ass', 100), ('rb_start', 120), ('sche_times', 2), ('active', 1), ('slot_len', 7), ('DRC', 85.71428571428571), ('rate_slot', 0.0), ('rate_avg', 82.16953932496541), ('rate_cur', 85.71428571428571), ('replace_num', 0)])\n",
      "dict_items([('user_info', {'id': 2}), ('rb_size', 12000), ('rb_num_req', 50), ('rb_num_ass', 34), ('rb_start', 220), ('sche_times', 2), ('active', 1), ('slot_len', 7), ('DRC', 85.71428571428571), ('rate_slot', 0.0), ('rate_avg', 72.0), ('rate_cur', 58.285714285714285), ('replace_num', 0)])\n",
      "dict_items([('user_info', {'id': 3}), ('rb_size', 3000), ('rb_num_req', 120), ('rb_num_ass', 120), ('rb_start', 0), ('sche_times', 2), ('active', 1), ('slot_len', 7), ('DRC', 51.42857142857143), ('rate_slot', 0.0), ('rate_avg', 48.0), ('rate_cur', 51.42857142857143), ('replace_num', 0)])\n"
     ]
    }
   ],
   "source": [
    "for user in embb_users:\n",
    "    print(user .__dict__.items())"
   ]
  },
  {
   "cell_type": "code",
   "execution_count": 11,
   "metadata": {},
   "outputs": [
    {
     "data": {
      "text/plain": [
       "950.9110637881344"
      ]
     },
     "execution_count": 11,
     "metadata": {},
     "output_type": "execute_result"
    }
   ],
   "source": [
    "embb_utility"
   ]
  },
  {
   "cell_type": "markdown",
   "metadata": {},
   "source": [
    "### eMBB only without URLLC"
   ]
  },
  {
   "cell_type": "code",
   "execution_count": 5,
   "metadata": {},
   "outputs": [],
   "source": [
    "for i in range(240000):\n",
    "    pf_scheduler = PfScheduler(RB_map, embb_users)\n",
    "    pf_scheduler.allocate_resource()"
   ]
  },
  {
   "cell_type": "code",
   "execution_count": 6,
   "metadata": {},
   "outputs": [
    {
     "name": "stdout",
     "output_type": "stream",
     "text": [
      "dict_items([('user_info', {'id': 1}), ('rb_size', 6000), ('rb_num_req', 100), ('rb_num_ass', 84), ('rb_start', 170), ('sche_times', 240000), ('active', 1), ('slot_len', 7), ('DRC', 85.71428571428571), ('rate_slot', 0.0), ('rate_avg', 80.63491428567671), ('rate_cur', 72.0), ('replace_num', 0)])\n",
      "dict_items([('user_info', {'id': 2}), ('rb_size', 12000), ('rb_num_req', 50), ('rb_num_ass', 50), ('rb_start', 0), ('sche_times', 240000), ('active', 1), ('slot_len', 7), ('DRC', 85.71428571428571), ('rate_slot', 0.0), ('rate_avg', 80.63485714282145), ('rate_cur', 85.71428571428571), ('replace_num', 0)])\n",
      "dict_items([('user_info', {'id': 3}), ('rb_size', 3000), ('rb_num_req', 120), ('rb_num_ass', 120), ('rb_start', 50), ('sche_times', 240000), ('active', 1), ('slot_len', 7), ('DRC', 51.42857142857143), ('rate_slot', 0.0), ('rate_avg', 48.38097142857368), ('rate_cur', 51.42857142857143), ('replace_num', 0)])\n"
     ]
    }
   ],
   "source": [
    "for user in embb_users:\n",
    "    print(user .__dict__.items())"
   ]
  },
  {
   "cell_type": "code",
   "execution_count": 7,
   "metadata": {},
   "outputs": [],
   "source": [
    "embb_utility = get_embb_utility(embb_users)"
   ]
  },
  {
   "cell_type": "code",
   "execution_count": 8,
   "metadata": {},
   "outputs": [
    {
     "data": {
      "text/plain": [
       "952.0565753732992"
      ]
     },
     "execution_count": 8,
     "metadata": {},
     "output_type": "execute_result"
    }
   ],
   "source": [
    "embb_utility"
   ]
  },
  {
   "cell_type": "code",
   "execution_count": 33,
   "metadata": {},
   "outputs": [],
   "source": [
    "for i in range(len(urllc_slot_start)):\n",
    "    urllc_slot_start[i] += global_time"
   ]
  },
  {
   "cell_type": "code",
   "execution_count": 34,
   "metadata": {},
   "outputs": [
    {
     "data": {
      "text/plain": [
       "[8, 9, 10, 11, 12, 13]"
      ]
     },
     "execution_count": 34,
     "metadata": {},
     "output_type": "execute_result"
    }
   ],
   "source": [
    "urllc_slot_start"
   ]
  },
  {
   "cell_type": "markdown",
   "metadata": {},
   "source": [
    "### Jointly eMBB and URLLC traffic without retransmission "
   ]
  },
  {
   "cell_type": "code",
   "execution_count": null,
   "metadata": {},
   "outputs": [],
   "source": [
    "# parameter setting\n",
    "rb_size = 15\n",
    "rb_num = 254\n",
    "embb_num = 3\n",
    "embb_slot_len = 7\n",
    "urllc_num = 6\n",
    "urllc_slot_len = 1\n",
    "id_total = 0\n",
    "max_sim_time_slot_len = embb_slot_len\n",
    "\n",
    "embb_rb_req = [100, 50, 120]\n",
    "embb_rb_size = [6000, 12000, 3000]\n",
    "urllc_rb_req = [10, 10, 10, 10, 10, 10]\n",
    "urllc_rb_size = [30, 30, 30, 30, 30, 30]\n",
    "urllc_slot_start = [1, 2, 3, 4, 5, 6]\n",
    "\n",
    "#urllc scheduler setting\n",
    "URLLCSolver = NaiveURLLCSolver\n",
    "# URLLCSolver = GreedyURLLCSolver\n",
    "\n",
    "global_time = 0\n",
    "global_timeout_urllc_users = []"
   ]
  },
  {
   "cell_type": "code",
   "execution_count": null,
   "metadata": {},
   "outputs": [],
   "source": [
    "# generate eMBB\n",
    "embb_users, urllc_users, RB_map, id_total = generate(rb_size,\n",
    "    rb_num,\n",
    "    embb_num, \n",
    "    embb_slot_len, \n",
    "    urllc_num,\n",
    "    urllc_slot_len,\n",
    "    embb_rb_req,\n",
    "    embb_rb_size,\n",
    "    urllc_rb_req,\n",
    "    urllc_rb_size,\n",
    "    urllc_slot_start,\n",
    "    latency=1,\n",
    "    error_rate=1e-5,\n",
    "    mcs_error=1e-5,\n",
    ")\n"
   ]
  },
  {
   "cell_type": "code",
   "execution_count": null,
   "metadata": {},
   "outputs": [],
   "source": [
    "# embb_time_slot pfs scheduler\n",
    "pf_scheduler = PfScheduler(RB_map, embb_users)\n",
    "pf_scheduler.allocate_resource()\n",
    "\n",
    "\n",
    "    \n",
    "# urllc_time_slot get urllc_active_come_list, setting urllc come from global_time=1 and later\n",
    "urllc_users.sort(key=lambda x:x.slot_start)\n",
    "urllc_come_time = np.array([u.slot_start for u in urllc_users])"
   ]
  },
  {
   "cell_type": "code",
   "execution_count": null,
   "metadata": {},
   "outputs": [],
   "source": [
    "delay_users = []\n",
    "timer = []\n",
    "# urllc scheduler loop for all the urllc_time_slot without considering embb user rescheduling\n",
    "while(global_time < max_sim_time_slot_len):\n",
    "    global_time += 1\n",
    "    indexes = np.where(urllc_come_time==global_time)[0]\n",
    "    if len(indexes) == 0:\n",
    "        continue\n",
    "    urllc_users_list = delay_users + urllc_users.copy()[indexes[0]:indexes[-1]+1]\n",
    "\n",
    "    \n",
    "    urllc_scheduler = URLLCSolver(RB_map, embb_users, urllc_users_list)\n",
    "    \n",
    "    start = time.time()\n",
    "    ass_users, delay_users, timeout_users = urllc_scheduler.allocate_resource()\n",
    "    timer.append(time.time() - start)\n",
    "\n",
    "    global_timeout_urllc_users.append(timeout_users)\n",
    "    \n",
    "    print(RB_map.__dict__.items())\n",
    "    # urllc leave\n",
    "    urllc_scheduler.leave(ass_users)\n",
    "    \n",
    "# get_embb_utility miss_list and time cost for all the urllc scheduler\n",
    "embb_utility = get_embb_utility(embb_users)\n",
    "total_time_cost = sum(timer)\n",
    "\n",
    "# visualize (TODO)\n",
    "for user in embb_users:\n",
    "    print(user .__dict__.items())\n",
    "print(\"\\n\")\n",
    "print(RB_map.__dict__.items())\n",
    "\n",
    "# next embb_time_slot (not show here)"
   ]
  },
  {
   "cell_type": "code",
   "execution_count": null,
   "metadata": {},
   "outputs": [],
   "source": [
    "#update URLLC\n",
    "for i in range(len(urllc_slot_start)):\n",
    "    urllc_slot_start[i] += global_time\n",
    "\n",
    "urllc_users, id_total = generate(\n",
    "    urllc_num,\n",
    "    urllc_slot_len,\n",
    "    urllc_rb_req,\n",
    "    urllc_rb_size,\n",
    "    urllc_slot_start,\n",
    "    latency=1,\n",
    "    error_rate=1e-5,\n",
    "    mcs_error=1e-5,\n",
    "    id_total\n",
    ")\n",
    "\n"
   ]
  }
 ],
 "metadata": {
  "kernelspec": {
   "display_name": "Python 3",
   "language": "python",
   "name": "python3"
  },
  "language_info": {
   "codemirror_mode": {
    "name": "ipython",
    "version": 3
   },
   "file_extension": ".py",
   "mimetype": "text/x-python",
   "name": "python",
   "nbconvert_exporter": "python",
   "pygments_lexer": "ipython3",
   "version": "3.7.4"
  }
 },
 "nbformat": 4,
 "nbformat_minor": 2
}
